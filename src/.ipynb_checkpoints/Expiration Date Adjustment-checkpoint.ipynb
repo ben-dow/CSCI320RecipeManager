{
 "cells": [
  {
   "cell_type": "code",
   "execution_count": 2,
   "id": "brutal-synthesis",
   "metadata": {},
   "outputs": [],
   "source": [
    "import pandas as pd\n",
    "import numpy as np\n",
    "import ast\n",
    "from sqlalchemy import create_engine\n",
    "from credentials import username, password\n",
    "from models import *\n",
    "from sqlalchemy.orm import sessionmaker\n",
    "from sqlalchemy import event\n",
    "\n",
    "pd.options.display.max_columns = 20"
   ]
  },
  {
   "cell_type": "code",
   "execution_count": 3,
   "id": "included-internet",
   "metadata": {},
   "outputs": [],
   "source": [
    "db_string = \"postgresql+psycopg2://\" + username + \":\" + password + \"@reddwarf.cs.rit.edu:5432/p320_03d\"\n",
    "engine = create_engine(db_string)"
   ]
  },
  {
   "cell_type": "code",
   "execution_count": 4,
   "id": "quick-cambridge",
   "metadata": {},
   "outputs": [],
   "source": [
    "pantry_df = pd.read_sql('pantry', con=engine)"
   ]
  },
  {
   "cell_type": "code",
   "execution_count": 6,
   "id": "devoted-disposition",
   "metadata": {},
   "outputs": [],
   "source": [
    "pantry_df['expiration_date'] = pantry_df['expiration_date'] + pd.DateOffset(months = 1)"
   ]
  },
  {
   "cell_type": "code",
   "execution_count": 8,
   "id": "after-simple",
   "metadata": {},
   "outputs": [],
   "source": [
    "pantry_df.to_sql('pantry', con=engine, index=False, if_exists='replace', method='multi')"
   ]
  }
 ],
 "metadata": {
  "kernelspec": {
   "display_name": "Python 3",
   "language": "python",
   "name": "python3"
  },
  "language_info": {
   "codemirror_mode": {
    "name": "ipython",
    "version": 3
   },
   "file_extension": ".py",
   "mimetype": "text/x-python",
   "name": "python",
   "nbconvert_exporter": "python",
   "pygments_lexer": "ipython3",
   "version": "3.8.5"
  }
 },
 "nbformat": 4,
 "nbformat_minor": 5
}
