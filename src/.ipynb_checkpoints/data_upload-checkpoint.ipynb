{
 "cells": [
  {
   "cell_type": "markdown",
   "metadata": {},
   "source": [
    "Uses this data set: https://www.kaggle.com/shuyangli94/food-com-recipes-and-user-interactions\n",
    "\n",
    "And also some randomly generated info"
   ]
  },
  {
   "cell_type": "code",
   "execution_count": 1,
   "metadata": {},
   "outputs": [],
   "source": [
    "import pandas as pd\n",
    "import numpy as np\n",
    "from personal_filepaths import *\n",
    "import ast\n",
    "from sqlalchemy import create_engine\n",
    "from credentials import username, password\n",
    "from models import *\n",
    "from sqlalchemy.orm import sessionmaker\n",
    "from sqlalchemy import event\n",
    "import random\n",
    "\n",
    "pd.options.display.max_columns = 20\n",
    "np.random.seed(42)"
   ]
  },
  {
   "cell_type": "code",
   "execution_count": 2,
   "metadata": {},
   "outputs": [],
   "source": [
    "# For importing all data\n",
    "users_df = pd.read_csv(PP_users)\n",
    "recipes_df = pd.read_csv(PP_recipes)\n",
    "interactions_df = pd.read_csv(RAW_interactions)\n",
    "recipes_info_df = pd.read_csv(RAW_recipes)\n",
    "ingredients_df = pd.read_pickle(ingr_map)\n",
    "user_pass_df = pd.read_csv(user_pass)"
   ]
  },
  {
   "cell_type": "code",
   "execution_count": 3,
   "metadata": {},
   "outputs": [],
   "source": [
    "# Drop unneccesary info\n",
    "users_df.drop(['techniques', 'n_items', 'n_ratings'], axis=1, inplace=True)\n",
    "recipes_df.drop(['i', 'name_tokens', 'techniques', 'calorie_level', 'ingredient_tokens', 'steps_tokens'], axis=1, inplace=True)\n",
    "interactions_df.drop(['review'], axis=1, inplace=True)\n",
    "recipes_info_df.drop(['n_steps', 'n_ingredients', 'ingredients', 'nutrition'], axis=1, inplace=True)\n",
    "ingredients_df.drop(['raw_ingr', 'raw_words', 'processed', 'len_proc', 'count'], axis=1, inplace=True)"
   ]
  },
  {
   "cell_type": "code",
   "execution_count": 4,
   "metadata": {},
   "outputs": [],
   "source": [
    "# Fill in user data and adjust tables accordingly, along with some other processing\n",
    "\n",
    "# This section fills in the fake usernames and passwords\n",
    "users_df = users_df.head(10000)\n",
    "users_df['username'] = user_pass_df['Username']\n",
    "users_df['password'] = user_pass_df['Password']\n",
    "\n",
    "# This section removes any data that references users we deleted\n",
    "recipes_info_df = recipes_info_df.loc[recipes_info_df['contributor_id'].isin(users_df['u'])]\n",
    "recipes_df = recipes_df.loc[recipes_df['id'].isin(recipes_info_df['id'])]\n",
    "interactions_df = interactions_df.loc[interactions_df['user_id'].isin(users_df['u'])]\n",
    "interactions_df = interactions_df.loc[interactions_df['recipe_id'].isin(recipes_info_df['id'])]\n",
    "\n",
    "# This just removes unnecessary duplicate data\n",
    "ingredients_df.drop_duplicates(inplace=True)\n",
    "\n",
    "# This generates fake account creation and login dates\n",
    "users_df['creation_date'] = np.random.choice(pd.date_range('1999-08-06', '2021-03-01'), len(users_df))\n",
    "users_df['last_access_date'] = np.random.choice(pd.date_range('2021-03-01', '2021-03-28'), len(users_df))\n",
    "\n",
    "# Generate fake serving and difficulty data\n",
    "recipes_info_df['servings'] = np.random.randint(1, 10, len(recipes_info_df))\n",
    "recipes_info_df['difficulty'] = recipes_info_df['servings'].apply(lambda x: random.choice(['easy', 'easy_medium', 'medium', 'medium_hard', 'hard']))\n",
    "\n",
    "# Generate fake aisle number data\n",
    "ingredients_df['aisle'] = np.random.randint(1, 20, len(ingredients_df))\n",
    "\n",
    "# Generate fake scale data\n",
    "interactions_df['scale'] = np.random.randint(1, 5, len(interactions_df))"
   ]
  },
  {
   "cell_type": "code",
   "execution_count": 5,
   "metadata": {},
   "outputs": [],
   "source": [
    "# Generate tables of data based on the data that already exists\n",
    "\n",
    "# Generate the steps table data\n",
    "ids = []\n",
    "step_nums = []\n",
    "steps = []\n",
    "\n",
    "for index, row in recipes_info_df.iterrows():\n",
    "    step_num = 1\n",
    "    for step in ast.literal_eval(row['steps']):\n",
    "        ids.append(row['id'])\n",
    "        step_nums.append(step_num)\n",
    "        steps.append(step)\n",
    "        step_num += 1\n",
    "\n",
    "steps_df = pd.DataFrame(list(zip(ids, step_nums, steps)), columns=['id', 'step_nr', 'instruction'])\n",
    "\n",
    "# Generate the categories table data\n",
    "ids = []\n",
    "categories = []\n",
    "\n",
    "for index, row in recipes_info_df.iterrows():\n",
    "    for tag in ast.literal_eval(row['tags']):\n",
    "        ids.append(row['id'])\n",
    "        categories.append(tag)\n",
    "\n",
    "categories_df = pd.DataFrame(list(zip(ids, categories)), columns=['id', 'category'])\n",
    "\n",
    "# Generate the recipe ingredient data\n",
    "recipe_ids = []\n",
    "ing_ids = []\n",
    "\n",
    "for index, row in recipes_df.iterrows():\n",
    "    for ingredient in ast.literal_eval(row['ingredient_ids']):\n",
    "        recipe_ids.append(row['id'])\n",
    "        ing_ids.append(int(ingredient))\n",
    "\n",
    "recipe_ingredients_df = pd.DataFrame(list(zip(recipe_ids, ing_ids)), columns=['recipe_id', 'ingredient_id'])\n",
    "recipe_ingredients_df['amount'] = np.random.randint(1, 10, len(recipe_ingredients_df))"
   ]
  },
  {
   "cell_type": "code",
   "execution_count": 6,
   "metadata": {},
   "outputs": [],
   "source": [
    "# Generate the user pantries, most of which is random\n",
    "pantry_id = []\n",
    "ing_id = []\n",
    "user_id = []\n",
    "expiration_date = []\n",
    "purchase_date = []\n",
    "quantity_bought = []\n",
    "\n",
    "count = 1\n",
    "\n",
    "for index, row in users_df.iterrows():\n",
    "    for index2, row2 in ingredients_df.sample(n=100, replace=False).iterrows():\n",
    "        pantry_id.append(count)\n",
    "        ing_id.append(row2['id'])\n",
    "        user_id.append(row['u'])\n",
    "        count += 1\n",
    "\n",
    "pantry_df = pd.DataFrame(list(zip(pantry_id, ing_id, user_id)), columns=['pantry_item_id', 'ingredient_id', 'user_id'])\n",
    "pantry_df['purchase_date'] = np.random.choice(pd.date_range('2021-03-10', '2021-03-28'), len(pantry_df))\n",
    "pantry_df['expiration_date'] = pantry_df['purchase_date'] + pd.DateOffset(days=14)\n",
    "pantry_df['quantity_bought'] = np.random.randint(10, 20, len(pantry_df))\n",
    "pantry_df['current_quantity'] = pantry_df['quantity_bought']"
   ]
  },
  {
   "cell_type": "code",
   "execution_count": 8,
   "metadata": {
    "scrolled": true
   },
   "outputs": [],
   "source": [
    "# Rename tables to fall in line with existing tables\n",
    "\n",
    "users_df.rename(columns={\"u\":\"id\"}, inplace=True)\n",
    "recipes_info_df.rename(columns={\"contributor_id\":\"created_by\", \"minutes\":\"cook_time\", \"submitted\":\"creation_date\"}, inplace=True)\n",
    "categories_df.rename(columns={\"id\":\"recipe_id\", \"category\":\"category_type\"}, inplace=True)\n",
    "interactions_df.rename(columns={\"date\":\"cook_date\"}, inplace=True)\n",
    "ingredients_df.rename(columns={\"replaced\":\"name\"}, inplace=True)\n",
    "# No renaming for pantry_df\n",
    "# no renaming for recipe_ingredients_df\n",
    "steps_df.rename(columns={\"id\":\"recipe_id\"}, inplace=True)"
   ]
  },
  {
   "cell_type": "code",
   "execution_count": 9,
   "metadata": {},
   "outputs": [],
   "source": [
    "users_df.drop(['items', 'ratings'], axis=1, inplace=True)\n",
    "recipes_info_df.drop(['steps', 'tags'], axis=1, inplace=True)"
   ]
  },
  {
   "cell_type": "code",
   "execution_count": 29,
   "metadata": {
    "scrolled": true
   },
   "outputs": [],
   "source": [
    "recipes_info_df['difficulty'] = recipes_info_df['servings'].apply(lambda x: random.choice(['easy', 'easy_medium', 'medium', 'medium_hard', 'hard']))"
   ]
  },
  {
   "cell_type": "code",
   "execution_count": 52,
   "metadata": {},
   "outputs": [],
   "source": [
    "recipe_ingredients_df.drop_duplicates(['recipe_id', 'ingredient_id'], inplace=True)"
   ]
  },
  {
   "cell_type": "code",
   "execution_count": 11,
   "metadata": {},
   "outputs": [],
   "source": [
    "db_string = \"postgresql+psycopg2://\" + username + \":\" + password + \"@reddwarf.cs.rit.edu:5432/p320_03d\"\n",
    "engine = create_engine(db_string)"
   ]
  },
  {
   "cell_type": "code",
   "execution_count": 34,
   "metadata": {},
   "outputs": [],
   "source": [
    "users_df.to_sql('users', con=engine, index=False, if_exists='append', method='multi')\n",
    "recipes_info_df.to_sql('recipes', con=engine, index=False, if_exists='append', method='multi')\n",
    "ingredients_df.to_sql('ingredients', con=engine, index=False, if_exists='append', method='multi')\n",
    "categories_df.to_sql('categories', con=engine, index=False, if_exists='append', method='multi')\n",
    "interactions_df.to_sql('cookedby', con=engine, index=False, if_exists='append', method='multi')\n",
    "pantry_df.to_sql('pantry', con=engine, index=False, if_exists='append', method='multi')\n",
    "recipe_ingredients_df.to_sql('recipe_ingredients', con=engine, index=False, if_exists='append', method='multi')\n",
    "steps_df.to_sql('steps', con=engine, index=False, if_exists='append', method='multi')"
   ]
  }
 ],
 "metadata": {
  "kernelspec": {
   "display_name": "Python 3",
   "language": "python",
   "name": "python3"
  },
  "language_info": {
   "codemirror_mode": {
    "name": "ipython",
    "version": 3
   },
   "file_extension": ".py",
   "mimetype": "text/x-python",
   "name": "python",
   "nbconvert_exporter": "python",
   "pygments_lexer": "ipython3",
   "version": "3.8.5"
  }
 },
 "nbformat": 4,
 "nbformat_minor": 4
}
